{
 "cells": [
  {
   "cell_type": "code",
   "execution_count": null,
   "id": "d88fa73b",
   "metadata": {},
   "outputs": [],
   "source": [
    "%matplotlib inline\n",
    "import json\n",
    "from marmot import marmot"
   ]
  },
  {
   "cell_type": "code",
   "execution_count": null,
   "id": "54f0062c",
   "metadata": {},
   "outputs": [],
   "source": [
    "with open('example.json', 'r') as fh:\n",
    "    config = json.load(fh)"
   ]
  },
  {
   "cell_type": "code",
   "execution_count": null,
   "id": "40559ee9",
   "metadata": {},
   "outputs": [],
   "source": [
    "marmot(config)"
   ]
  }
 ],
 "metadata": {
  "kernelspec": {
   "display_name": "Python 3",
   "language": "python",
   "name": "python3"
  },
  "language_info": {
   "codemirror_mode": {
    "name": "ipython",
    "version": 3
   },
   "file_extension": ".py",
   "mimetype": "text/x-python",
   "name": "python",
   "nbconvert_exporter": "python",
   "pygments_lexer": "ipython3",
   "version": "3.6.9"
  }
 },
 "nbformat": 4,
 "nbformat_minor": 5
}
